{
 "cells": [
  {
   "cell_type": "markdown",
   "metadata": {},
   "source": [
    "# <strong>ARTIFICIAL NEURAL NETWORKS - FORWARD PROPAGATION</strong>:"
   ]
  },
  {
   "cell_type": "markdown",
   "metadata": {},
   "source": [
    "<u><h4>Objectives:</h4></u>\n",
    "<li> Build a Neural Network\n",
    "<li> Compute the Weighted Sum at Each Node\n",
    "<li> Compute Node Activation\n",
    "<li> Use Foward Propagation to Propagate Data"
   ]
  },
  {
   "cell_type": "markdown",
   "metadata": {},
   "source": [
    "---"
   ]
  },
  {
   "cell_type": "markdown",
   "metadata": {},
   "source": [
    "## <strong>SETUP</strong>"
   ]
  },
  {
   "cell_type": "code",
   "execution_count": 40,
   "metadata": {},
   "outputs": [],
   "source": [
    "# Importing Required Modules\n",
    "\n",
    "import numpy as np"
   ]
  },
  {
   "cell_type": "code",
   "execution_count": 41,
   "metadata": {},
   "outputs": [],
   "source": [
    "# Random Initialization of weights and biases in the network\n",
    "\n",
    "weights = np.around(np.random.uniform(size=6), decimals=2) # Initialize weights\n",
    "biases = np.around(np.random.uniform(size=3), decimals=2) # Initialize biases"
   ]
  },
  {
   "cell_type": "code",
   "execution_count": 42,
   "metadata": {},
   "outputs": [
    {
     "data": {
      "text/plain": [
       "(array([0.58, 0.73, 0.38, 0.17, 0.36, 0.57]), array([0.47, 0.49, 0.57]))"
      ]
     },
     "execution_count": 42,
     "metadata": {},
     "output_type": "execute_result"
    }
   ],
   "source": [
    "weights, biases"
   ]
  },
  {
   "cell_type": "code",
   "execution_count": 43,
   "metadata": {},
   "outputs": [
    {
     "data": {
      "text/plain": [
       "(0.5, 0.85)"
      ]
     },
     "execution_count": 43,
     "metadata": {},
     "output_type": "execute_result"
    }
   ],
   "source": [
    "# Inputs\n",
    "\n",
    "x11 = 0.5\n",
    "x12 = 0.85\n",
    "\n",
    "x11, x12"
   ]
  },
  {
   "cell_type": "code",
   "execution_count": 44,
   "metadata": {},
   "outputs": [
    {
     "data": {
      "text/plain": [
       "np.float64(1.3804999999999998)"
      ]
     },
     "execution_count": 44,
     "metadata": {},
     "output_type": "execute_result"
    }
   ],
   "source": [
    "# Computing z\n",
    "\n",
    "z11 = x11 * weights[0] + x12 * weights[1] + biases[0]\n",
    "z11"
   ]
  },
  {
   "cell_type": "code",
   "execution_count": 45,
   "metadata": {},
   "outputs": [
    {
     "data": {
      "text/plain": [
       "np.float64(0.8245)"
      ]
     },
     "execution_count": 45,
     "metadata": {},
     "output_type": "execute_result"
    }
   ],
   "source": [
    "# Computing value of the next node\n",
    "\n",
    "z12 = x11 * weights[2] + x12 * weights[3] + biases[1]\n",
    "z12"
   ]
  },
  {
   "cell_type": "code",
   "execution_count": 46,
   "metadata": {},
   "outputs": [
    {
     "data": {
      "text/plain": [
       "np.float64(0.7990712904356613)"
      ]
     },
     "execution_count": 46,
     "metadata": {},
     "output_type": "execute_result"
    }
   ],
   "source": [
    "# Activation of the first node\n",
    "\n",
    "a11 = 1.0/(1.0 + np.exp(-z11))\n",
    "a11"
   ]
  },
  {
   "cell_type": "code",
   "execution_count": 48,
   "metadata": {},
   "outputs": [
    {
     "data": {
      "text/plain": [
       "np.float64(0.695190729399442)"
      ]
     },
     "execution_count": 48,
     "metadata": {},
     "output_type": "execute_result"
    }
   ],
   "source": [
    "# Subsequent activations\n",
    "\n",
    "a12 = 1.0/ (1.0+  np.exp(-z12))\n",
    "a12"
   ]
  },
  {
   "cell_type": "code",
   "execution_count": 49,
   "metadata": {},
   "outputs": [
    {
     "data": {
      "text/plain": [
       "np.float64(1.25392438031452)"
      ]
     },
     "execution_count": 49,
     "metadata": {},
     "output_type": "execute_result"
    }
   ],
   "source": [
    "# Output of the network as the activation of the node in the output layer\n",
    "\n",
    "z2 = a11 * weights[4] + a12 * weights[5] + biases[2]\n",
    "z2"
   ]
  },
  {
   "cell_type": "code",
   "execution_count": 50,
   "metadata": {},
   "outputs": [
    {
     "data": {
      "text/plain": [
       "np.float64(0.7779784508604813)"
      ]
     },
     "execution_count": 50,
     "metadata": {},
     "output_type": "execute_result"
    }
   ],
   "source": [
    "# Activation of the node in the output layer\n",
    "\n",
    "a2 = 1.0 / (1.0 + np.exp(-z2))\n",
    "a2"
   ]
  },
  {
   "cell_type": "markdown",
   "metadata": {},
   "source": [
    "---"
   ]
  },
  {
   "cell_type": "markdown",
   "metadata": {},
   "source": [
    "## <strong>BUILDING A NEURAL NETWORK</strong>"
   ]
  },
  {
   "cell_type": "code",
   "execution_count": 61,
   "metadata": {},
   "outputs": [],
   "source": [
    "# Node Structure\n",
    "\n",
    "n = 2 # no. of inputs\n",
    "num_hidden_layers = 2 #no. of hidden layers\n",
    "m = [2, 2] # no. of nodes in each hidden layer\n",
    "num_nodes_output = 1 # no. of nodes in the output layer"
   ]
  },
  {
   "cell_type": "code",
   "execution_count": 63,
   "metadata": {},
   "outputs": [
    {
     "name": "stdout",
     "output_type": "stream",
     "text": [
      "{'layer_1': {'node_1': {'weights': array([0.58, 0.6 ]), 'bias': array([0.39])}, 'node_2': {'weights': array([0.85, 0.71]), 'bias': array([0.38])}}, 'layer_2': {'node_1': {'weights': array([0.26, 1.  ]), 'bias': array([0.35])}, 'node_2': {'weights': array([0.51, 0.52]), 'bias': array([0.95])}}, 'output': {'node_1': {'weights': array([0.68, 0.75]), 'bias': array([0.22])}}}\n"
     ]
    }
   ],
   "source": [
    "num_nodes_prev = n\n",
    "\n",
    "network = {}\n",
    "\n",
    "# loop through each layer and randomly initialize the weights and biases associated with each node\n",
    "# notice how we are adding 1 to the number of hidden layers in order to include the output layer\n",
    "for layer in range(num_hidden_layers + 1): \n",
    "    \n",
    "    # determine name of layer\n",
    "    if layer == num_hidden_layers:\n",
    "        layer_name = 'output'\n",
    "        num_nodes = num_nodes_output\n",
    "    else:\n",
    "        layer_name = 'layer_{}'.format(layer + 1)\n",
    "        num_nodes = m[layer]\n",
    "    \n",
    "    # initialize weights and biases associated with each node in the current layer\n",
    "    network[layer_name] = {}\n",
    "    for node in range(num_nodes):\n",
    "        node_name = 'node_{}'.format(node+1)\n",
    "        network[layer_name][node_name] = {\n",
    "            'weights': np.around(np.random.uniform(size=num_nodes_prev), decimals=2),\n",
    "            'bias': np.around(np.random.uniform(size=1), decimals=2),\n",
    "        }\n",
    "    \n",
    "    num_nodes_prev = num_nodes\n",
    "    \n",
    "print(network) # print network\n",
    "\n",
    "pass"
   ]
  },
  {
   "cell_type": "markdown",
   "metadata": {},
   "source": [
    "The below is an organized extract of the above codeblock:\n",
    "\n",
    "![first_neural_network_code_ node_output](../img/first_neural_network_code_node_output.png)"
   ]
  },
  {
   "cell_type": "markdown",
   "metadata": {},
   "source": [
    "---"
   ]
  }
 ],
 "metadata": {
  "kernelspec": {
   "display_name": "IBM_AI_ENGINEERING_COURSE",
   "language": "python",
   "name": "python3"
  },
  "language_info": {
   "codemirror_mode": {
    "name": "ipython",
    "version": 3
   },
   "file_extension": ".py",
   "mimetype": "text/x-python",
   "name": "python",
   "nbconvert_exporter": "python",
   "pygments_lexer": "ipython3",
   "version": "3.13.1"
  }
 },
 "nbformat": 4,
 "nbformat_minor": 2
}
